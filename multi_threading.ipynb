{
  "nbformat": 4,
  "nbformat_minor": 0,
  "metadata": {
    "colab": {
      "provenance": []
    },
    "kernelspec": {
      "name": "python3",
      "display_name": "Python 3"
    },
    "language_info": {
      "name": "python"
    }
  },
  "cells": [
    {
      "cell_type": "code",
      "execution_count": 1,
      "metadata": {
        "colab": {
          "base_uri": "https://localhost:8080/"
        },
        "id": "XakZXVay-Qmz",
        "outputId": "a2174f93-6e43-4656-b26c-b5e405355aa5"
      },
      "outputs": [
        {
          "output_type": "stream",
          "name": "stdout",
          "text": [
            "Requirement already satisfied: psutil in /usr/local/lib/python3.10/dist-packages (5.9.5)\n"
          ]
        }
      ],
      "source": [
        "!pip install psutil"
      ]
    },
    {
      "cell_type": "code",
      "source": [
        "import numpy as np\n",
        "import matplotlib.pyplot as plt\n",
        "import time\n",
        "import psutil\n",
        "\n",
        "def generate_random_matrices(num_matrices, size):\n",
        "    matrices = []\n",
        "    for _ in range(num_matrices):\n",
        "        matrices.append(np.random.rand(size, size))\n",
        "    return matrices\n",
        "\n",
        "def generate_constant_matrix(size):\n",
        "    return np.random.rand(size, size)\n",
        "\n",
        "def multiply_matrices(matrices, constant_matrix):\n",
        "    results = []\n",
        "    for matrix in matrices:\n",
        "        start_time = time.time()\n",
        "        result = np.dot(matrix, constant_matrix)\n",
        "        end_time = time.time()\n",
        "        results.append((result, end_time - start_time))\n",
        "    return results\n",
        "\n",
        "def plot_graph(thread_configurations, times):\n",
        "    thread_configurations_str = [str(config) for config in thread_configurations]\n",
        "    plt.bar(thread_configurations_str, times)\n",
        "    plt.xlabel('Thread Configurations')\n",
        "    plt.ylabel('Time Taken (s)')\n",
        "    plt.title('Time vs Number of Threads for Matrix Multiplication')\n",
        "    plt.show()\n",
        "\n",
        "def record_cpu_usage():\n",
        "    return psutil.cpu_percent()\n",
        "\n",
        "def main():\n",
        "    num_matrices = 150\n",
        "    matrix_size = 2000\n",
        "    thread_configurations = [1, 2, 3, 4, 5, 6, 7, 8]\n",
        "    times_taken = []\n",
        "    cpu_usages = []\n",
        "\n",
        "    constant_matrix = generate_constant_matrix(matrix_size)\n",
        "    matrices = generate_random_matrices(num_matrices, matrix_size)\n",
        "\n",
        "    for threads in thread_configurations:\n",
        "        if isinstance(threads, int):\n",
        "            threads = (threads,)\n",
        "        psutil.cpu_percent()  # initial CPU usage\n",
        "        results = multiply_matrices(matrices, constant_matrix)\n",
        "        times = [result[1] for result in results]\n",
        "        times_taken.append(sum(times) / len(times))\n",
        "        cpu_usages.append(record_cpu_usage())\n",
        "\n",
        "    print(\"Time Taken (s):\", times_taken)\n",
        "    print(\"CPU Usages (%):\", cpu_usages)\n",
        "\n",
        "    plot_graph(thread_configurations, times_taken)\n",
        "\n",
        "if __name__ == \"__main__\":\n",
        "    main()"
      ],
      "metadata": {
        "id": "4-zBGxQ8-XjU"
      },
      "execution_count": null,
      "outputs": []
    }
  ]
}